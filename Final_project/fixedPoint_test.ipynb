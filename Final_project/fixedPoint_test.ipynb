{
 "cells": [
  {
   "cell_type": "code",
   "execution_count": 21,
   "metadata": {
    "collapsed": true
   },
   "outputs": [],
   "source": [
    "import time\n",
    "try:\n",
    "    import matplotlib, numpy\n",
    "    import matplotlib.pyplot as plt\n",
    "    HAVE_MATPLOTLIB = True\n",
    "except ImportError:\n",
    "    HAVE_MATPLOTLIB = False\n",
    "\n",
    "import FixedPoint"
   ]
  },
  {
   "cell_type": "code",
   "execution_count": 22,
   "metadata": {
    "collapsed": true
   },
   "outputs": [],
   "source": [
    "def basicDemo():\n",
    "    \"\"\"Basic demonstration of roots & exponents at various accuracies\"\"\"\n",
    "\n",
    "    for resolution in [8, 32, 80, 274]:\n",
    "        family = FixedPoint.FXfamily(resolution)\n",
    "        val = 2\n",
    "\n",
    "        print('=== {0} bits ==='.format(resolution))\n",
    "        rt = FixedPoint.FXnum(val, family).sqrt()\n",
    "        print('sqrt(' + str(val) + ')~ ' + str(rt))\n",
    "        print('sqrt(' + str(val) + ')^2 ~ ' + str(rt * rt))\n",
    "        print('exp(1) ~ ' + str(family.exp1))\n",
    "        print()"
   ]
  },
  {
   "cell_type": "code",
   "execution_count": 39,
   "metadata": {
    "collapsed": true
   },
   "outputs": [],
   "source": [
    "def overflowDemo():\n",
    "    \"\"\"Illustrate how finite range limits calculation of exponents\"\"\"\n",
    "\n",
    "    res = 20\n",
    "    print('=== {0}-bit fractional part ==='.format(res))\n",
    "    for intsize in [4, 8, 16, 32]:\n",
    "        family = FixedPoint.FXfamily(res, intsize)\n",
    "        x = FixedPoint.FXnum(0.0, family)\n",
    "        step = 0.1\n",
    "        while True:\n",
    "            try:\n",
    "                ex = x.exp()\n",
    "            except FixedPoint.FXoverflowError:\n",
    "                print('{0:2d}-bit integer part: exp(x) overflows near x={1:.3g}'.format(intsize, float(x)))\n",
    "                break\n",
    "            x += step\n",
    "    print()"
   ]
  },
  {
   "cell_type": "code",
   "execution_count": 40,
   "metadata": {
    "collapsed": true
   },
   "outputs": [],
   "source": [
    "def speedDemo():\n",
    "    \"\"\"calculate indicative speed of floating-point operations\"\"\"\n",
    "\n",
    "    print('=== speed test ===')\n",
    "    for res, count in [ (16, 10000), (32, 10000),\n",
    "                        (64, 10000), (128, 10000),\n",
    "                        (256, 10000), (512, 10000) ]:\n",
    "        fam = FixedPoint.FXfamily(res)\n",
    "        x = FixedPoint.FXnum(0.5, fam)\n",
    "        lmb = FixedPoint.FXnum(3.6, fam)\n",
    "        one = FixedPoint.FXnum(1.0, fam)\n",
    "        t0 = time.clock()\n",
    "        for i in range(count):\n",
    "            # use logistic-map in chaotic region:\n",
    "            x = lmb * x * (one - x)\n",
    "        t1 = time.clock()\n",
    "        ops = count * 3\n",
    "        Dt = t1 - t0\n",
    "        print('{0} {1}-bit arithmetic operations in {2:.2f}s ~ {3:.2g} FLOPS' \\\n",
    "                .format(ops, res, Dt, (ops / Dt)))\n",
    "\n",
    "    for res, count in [ (4, 10000), (8, 10000), (12, 10000),\n",
    "                        (24, 10000), (48, 10000), (128, 10000),\n",
    "                        (512, 10000) ]:\n",
    "        fam = FixedPoint.FXfamily(res, 4)\n",
    "        x = FixedPoint.FXnum(2, fam)\n",
    "        t0 = time.clock()\n",
    "        for i in range(count):\n",
    "            y = x.sqrt()\n",
    "        t1 = time.clock()\n",
    "        Dt = (t1 - t0)\n",
    "        print('{} {}-bit square-roots in {:.3g}s ~ {:.3g}/ms' \\\n",
    "                .format(count, res, Dt, count*1e-3/Dt))\n"
   ]
  },
  {
   "cell_type": "code",
   "execution_count": 41,
   "metadata": {
    "collapsed": true
   },
   "outputs": [],
   "source": [
    "def plotDemo():\n",
    "    \"\"\"Plot graph of approximations to Pi\"\"\"\n",
    "\n",
    "    pi_true = FixedPoint.FXfamily(200).pi\n",
    "    b_min, b_max = 8, 25\n",
    "    pipoints = []\n",
    "    for res in range(b_min, b_max+1):\n",
    "        val = 4 * FixedPoint.FXnum(1, FixedPoint.FXfamily(res)).atan()\n",
    "        pipoints.append([res, val])\n",
    "    pipoints = numpy.array(pipoints)\n",
    "    truepoints = numpy.array([[b_min, pi_true], [b_max, pi_true]])\n",
    "\n",
    "    plt.xlabel('bits')\n",
    "    plt.ylabel(r'$4 tan^{-1}1$')\n",
    "    plt.xlim([b_min, b_max])\n",
    "    plt.ylim([3.13, 3.16])\n",
    "    plt.grid(True)\n",
    "    for arr in (truepoints, pipoints):\n",
    "        plt.plot(arr[:,0], arr[:,1])\n",
    "    plt.show()"
   ]
  },
  {
   "cell_type": "code",
   "execution_count": 42,
   "metadata": {
    "collapsed": false
   },
   "outputs": [
    {
     "name": "stdout",
     "output_type": "stream",
     "text": [
      "=== 8 bits ===\n",
      "sqrt(2)~ 1.41\n",
      "sqrt(2)^2 ~ 2\n",
      "exp(1) ~ 2.71\n",
      "()\n",
      "=== 32 bits ===\n",
      "sqrt(2)~ 1.4142135623\n",
      "sqrt(2)^2 ~ 2\n",
      "exp(1) ~ 2.7182818283\n",
      "()\n",
      "=== 80 bits ===\n",
      "sqrt(2)~ 1.41421356237309504880168866\n",
      "sqrt(2)^2 ~ 2\n",
      "exp(1) ~ 2.71828182845904523536028718\n",
      "()\n",
      "=== 274 bits ===\n",
      "sqrt(2)~ 1.4142135623730950488016887242096980785696718753769480731766797379907324784621070388472819911\n",
      "sqrt(2)^2 ~ 2\n",
      "exp(1) ~ 2.7182818284590452353602874713526624977572470936999595749669676277240766303535475945429568588\n",
      "()\n"
     ]
    }
   ],
   "source": [
    "basicDemo()"
   ]
  },
  {
   "cell_type": "code",
   "execution_count": 43,
   "metadata": {
    "collapsed": false
   },
   "outputs": [
    {
     "name": "stdout",
     "output_type": "stream",
     "text": [
      "=== 20-bit fractional part ===\n",
      " 4-bit integer part: exp(x) overflows near x=0.5\n",
      " 8-bit integer part: exp(x) overflows near x=4.9\n",
      "16-bit integer part: exp(x) overflows near x=10.4\n",
      "32-bit integer part: exp(x) overflows near x=21.5\n",
      "()\n"
     ]
    }
   ],
   "source": [
    "overflowDemo()"
   ]
  },
  {
   "cell_type": "code",
   "execution_count": 44,
   "metadata": {
    "collapsed": false
   },
   "outputs": [
    {
     "name": "stdout",
     "output_type": "stream",
     "text": [
      "=== speed test ===\n",
      "30000 16-bit arithmetic operations in 0.16s ~ 1.9e+05 FLOPS\n",
      "30000 32-bit arithmetic operations in 0.14s ~ 2.2e+05 FLOPS\n",
      "30000 64-bit arithmetic operations in 0.14s ~ 2.1e+05 FLOPS\n",
      "30000 128-bit arithmetic operations in 0.10s ~ 2.9e+05 FLOPS\n",
      "30000 256-bit arithmetic operations in 0.15s ~ 2e+05 FLOPS\n",
      "30000 512-bit arithmetic operations in 0.20s ~ 1.5e+05 FLOPS\n",
      "10000 4-bit square-roots in 0.609s ~ 16.4/ms\n",
      "10000 8-bit square-roots in 0.787s ~ 12.7/ms\n",
      "10000 12-bit square-roots in 0.777s ~ 12.9/ms\n",
      "10000 24-bit square-roots in 0.981s ~ 10.2/ms\n",
      "10000 48-bit square-roots in 1.04s ~ 9.63/ms\n",
      "10000 128-bit square-roots in 1.48s ~ 6.78/ms\n",
      "10000 512-bit square-roots in 2.51s ~ 3.99/ms\n"
     ]
    }
   ],
   "source": [
    "speedDemo()"
   ]
  },
  {
   "cell_type": "code",
   "execution_count": 45,
   "metadata": {
    "collapsed": false
   },
   "outputs": [
    {
     "data": {
      "image/png": "[encoded data removed]",
      "text/plain": [
       "<matplotlib.figure.Figure at 0x7fab1294cfd0>"
      ]
     },
     "metadata": {},
     "output_type": "display_data"
    }
   ],
   "source": [
    "plotDemo()"
   ]
  },
  {
   "cell_type": "code",
   "execution_count": 46,
   "metadata": {
    "collapsed": false
   },
   "outputs": [
    {
     "data": {
      "text/plain": [
       "0.692"
      ]
     },
     "execution_count": 46,
     "metadata": {},
     "output_type": "execute_result"
    }
   ],
   "source": [
    "a = 0.123\n",
    "b = 0.569\n",
    "float(a+b)"
   ]
  },
  {
   "cell_type": "code",
   "execution_count": 34,
   "metadata": {
    "collapsed": false
   },
   "outputs": [
    {
     "data": {
      "text/plain": [
       "FXnum(family=FXfamily(n_bits=4, n_intbits=2), scaled_value=10)"
      ]
     },
     "execution_count": 34,
     "metadata": {},
     "output_type": "execute_result"
    }
   ],
   "source": [
    "fa = FixedPoint.FXnum(a,FixedPoint.FXfamily(n_bits=4, n_intbits=2))\n",
    "fb = FixedPoint.FXnum(b,FixedPoint.FXfamily(n_bits=4, n_intbits=2))\n",
    "fa+fb"
   ]
  },
  {
   "cell_type": "code",
   "execution_count": 35,
   "metadata": {
    "collapsed": false
   },
   "outputs": [
    {
     "data": {
      "text/plain": [
       "0.625"
      ]
     },
     "execution_count": 35,
     "metadata": {},
     "output_type": "execute_result"
    }
   ],
   "source": [
    "float(fa+fb)"
   ]
  },
  {
   "cell_type": "code",
   "execution_count": null,
   "metadata": {
    "collapsed": true
   },
   "outputs": [],
   "source": []
  }
 ],
 "metadata": {
  "kernelspec": {
   "display_name": "Python 2",
   "language": "python",
   "name": "python2"
  },
  "language_info": {
   "codemirror_mode": {
    "name": "ipython",
    "version": 2
   },
   "file_extension": ".py",
   "mimetype": "text/x-python",
   "name": "python",
   "nbconvert_exporter": "python",
   "pygments_lexer": "ipython2",
   "version": "2.7.13"
  }
 },
 "nbformat": 4,
 "nbformat_minor": 2
}
